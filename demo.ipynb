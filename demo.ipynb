{
 "cells": [
  {
   "cell_type": "code",
   "execution_count": 1,
   "metadata": {
    "collapsed": true
   },
   "outputs": [],
   "source": [
    "import autograd.numpy as np\n",
    "import autograd.numpy.random as npr\n",
    "from autograd.scipy.misc import logsumexp\n",
    "from autograd import grad, jacobian\n",
    "\n",
    "from torchhmm.torchhmm import HMMNormalizer\n",
    "\n",
    "import torch\n",
    "from torch.autograd import Function, Variable"
   ]
  },
  {
   "cell_type": "code",
   "execution_count": 2,
   "metadata": {
    "collapsed": true
   },
   "outputs": [],
   "source": [
    "def normalizer(log_pi0, log_As, log_likes):\n",
    "    T, K = log_likes.shape\n",
    "    assert log_pi0.shape == (K,)\n",
    "    assert log_As.shape == (T-1, K, K)\n",
    "    \n",
    "    alpha = log_pi0 + log_likes[0]\n",
    "    for t in range(T-1):\n",
    "        alpha = logsumexp(alpha + log_As[t].T, axis=1)\n",
    "        alpha += log_likes[t+1]\n",
    "    \n",
    "    return logsumexp(alpha)"
   ]
  },
  {
   "cell_type": "code",
   "execution_count": 3,
   "metadata": {
    "collapsed": true
   },
   "outputs": [],
   "source": [
    "T = 10\n",
    "K = 3\n",
    "log_pi0 = npr.randn(K).astype(np.float32)\n",
    "log_As = npr.randn(T-1, K, K).astype(np.float32)\n",
    "log_likes = npr.randn(T, K).astype(np.float32)"
   ]
  },
  {
   "cell_type": "code",
   "execution_count": 4,
   "metadata": {
    "collapsed": true
   },
   "outputs": [],
   "source": [
    "# Use autograd to get the gradient of the normalizer wrt the inputs\n",
    "Z = normalizer(log_pi0, log_As, log_likes)\n",
    "d_log_pi0 = grad(normalizer, 0)(log_pi0, log_As, log_likes)\n",
    "d_log_As = grad(normalizer, 1)(log_pi0, log_As, log_likes)\n",
    "d_log_likes = grad(normalizer, 2)(log_pi0, log_As, log_likes)"
   ]
  },
  {
   "cell_type": "code",
   "execution_count": 5,
   "metadata": {},
   "outputs": [],
   "source": [
    "# Compare against the torch implementation\n",
    "v_log_pi0 = Variable(torch.from_numpy(log_pi0), requires_grad=True)\n",
    "v_log_As = Variable(torch.from_numpy(log_As), requires_grad=True)\n",
    "v_log_likes = Variable(torch.from_numpy(log_likes), requires_grad=True)\n",
    "Z2 = HMMNormalizer.apply(v_log_pi0, v_log_As, v_log_likes)\n",
    "\n",
    "loss = Z2\n",
    "loss.backward()\n",
    "assert np.allclose(Z, Z2.data.numpy())"
   ]
  },
  {
   "cell_type": "code",
   "execution_count": 6,
   "metadata": {
    "collapsed": true
   },
   "outputs": [],
   "source": [
    "assert np.allclose(d_log_pi0, v_log_pi0.grad.data.numpy())\n",
    "assert np.allclose(d_log_As, v_log_As.grad.data.numpy())\n",
    "assert np.allclose(d_log_likes, v_log_likes.grad.data.numpy())"
   ]
  }
 ],
 "metadata": {
  "kernelspec": {
   "display_name": "Python 3",
   "language": "python",
   "name": "python3"
  },
  "language_info": {
   "codemirror_mode": {
    "name": "ipython",
    "version": 3
   },
   "file_extension": ".py",
   "mimetype": "text/x-python",
   "name": "python",
   "nbconvert_exporter": "python",
   "pygments_lexer": "ipython3",
   "version": "3.6.3"
  }
 },
 "nbformat": 4,
 "nbformat_minor": 2
}
